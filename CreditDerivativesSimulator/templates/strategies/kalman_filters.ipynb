{
  "cells": [
    {
      "cell_type": "markdown",
      "metadata": {
        "id": "view-in-github",
        "colab_type": "text"
      },
      "source": [
        "<a href=\"https://colab.research.google.com/github/kiruma524/CreditDerivativesSimulator/blob/need-some-editing/CreditDerivativesSimulator/templates/strategies/kalman_filters.ipynb\" target=\"_parent\"><img src=\"https://colab.research.google.com/assets/colab-badge.svg\" alt=\"Open In Colab\"/></a>"
      ]
    },
    {
      "cell_type": "code",
      "execution_count": 1,
      "metadata": {
        "id": "PJEI6IUUAwAn"
      },
      "outputs": [],
      "source": [
        "VERSION =  \"v1.1\" #@param {type:\"string\"}"
      ]
    },
    {
      "cell_type": "code",
      "execution_count": 2,
      "metadata": {
        "colab": {
          "base_uri": "https://localhost:8080/"
        },
        "id": "YkzDBvij2kZS",
        "outputId": "bbeed970-c5a5-4bb1-b51c-105d470b9d28"
      },
      "outputs": [
        {
          "output_type": "stream",
          "name": "stdout",
          "text": [
            "fatal: destination path 'CreditDerivativesSimulator' already exists and is not an empty directory.\n",
            "/content/CreditDerivativesSimulator\n"
          ]
        }
      ],
      "source": [
        "#@title [RUN] Install required python libraries and clone the repo\n",
        "# Assert for correct version\n",
        "\n",
        "assert VERSION in ['v1.0', 'v1.1'], 'Specify correct version!' + \\\n",
        "                                'Available versions are \"v1.0\" and \"v1.1\"'\n",
        "\n",
        "!pip install wandb -q\n",
        "!git clone -b $VERSION https://github.com/vladargunov/CreditDerivativesSimulator.git\n",
        "\n",
        "# Import necessary classses\n",
        "%cd CreditDerivativesSimulator\n",
        "from src.base_strategy import BaseStrategy\n",
        "from src.simulator import Simulator"
      ]
    },
    {
      "cell_type": "code",
      "execution_count": 3,
      "metadata": {
        "colab": {
          "base_uri": "https://localhost:8080/"
        },
        "id": "agOjDrM7DbgW",
        "outputId": "28263e7a-58d3-4a33-d85a-46ad60a6e093"
      },
      "outputs": [
        {
          "output_type": "stream",
          "name": "stdout",
          "text": [
            "Looking in indexes: https://pypi.org/simple, https://us-python.pkg.dev/colab-wheels/public/simple/\n",
            "Requirement already satisfied: pykalman in /usr/local/lib/python3.7/dist-packages (0.9.5)\n"
          ]
        }
      ],
      "source": [
        "!pip install pykalman\n",
        "from pykalman import *\n",
        "import pandas as pd\n",
        "import numpy as np\n",
        "\n",
        "class SimpleKalmanFilter(BaseStrategy):\n",
        "  def train_model(self, train_data):\n",
        "    self.train_data = train_data[['er_itraxx_main_long', 'er_itraxx_main_short']]\n",
        "    self.train_data = self.train_data.dropna()\n",
        "    self.kf = KalmanFilter(transition_matrices = [[1, 1], [0, 1]], observation_matrices = [[0.1, 0.5], [-0.3, 0.0]])\n",
        "    measurements = self.train_data.to_numpy()\n",
        "    self.kf = self.kf.em(measurements, n_iter = 5)\n",
        "    (self.filtered_state_means, self.filtered_state_covariances) = self.kf.filter(measurements)\n",
        "    self.covariance = self.filtered_state_covariances[-1][0][1]\n",
        "\n",
        "  def trade(self, daily_data) -> dict:\n",
        "    daily_data = pd.DataFrame([daily_data])\n",
        "    daily_data = daily_data[['er_itraxx_main_long', 'er_itraxx_main_short']]\n",
        "    self.train_data = pd.concat([self.train_data, daily_data])\n",
        "    new_measurements = daily_data.to_numpy()\n",
        "    new_means, new_covariances = self.kf.filter_update(self.filtered_state_means[-1], self.filtered_state_covariances[-1], new_measurements[-1])\n",
        "    #print('11111111',self.filtered_state_covariances)\n",
        "    self.filtered_state_means = np.append(self.filtered_state_means, new_means)\n",
        "    self.filtered_state_covariances = np.append(self.filtered_state_covariances, new_covariances)\n",
        "    #print('2222222222', self.filtered_state_covariances)\n",
        "    self.covariance = self.filtered_state_covariances[-1]\n",
        "    if self.covariance > 0:\n",
        "      return {'er_itraxx_main_short': -0.3, 'er_itraxx_main_long': 0.7}\n",
        "    else:\n",
        "      return {'er_itraxx_main_short': 0.3, 'er_itraxx_main_long': -0.7}\n"
      ]
    },
    {
      "cell_type": "code",
      "execution_count": 4,
      "metadata": {
        "colab": {
          "base_uri": "https://localhost:8080/",
          "height": 104
        },
        "id": "WrC96jvOGFey",
        "outputId": "90f2c31b-42d1-403c-b020-8a13ba5be214"
      },
      "outputs": [
        {
          "output_type": "stream",
          "name": "stderr",
          "text": [
            "ERROR:wandb.jupyter:Failed to detect the name of this notebook, you can set it manually with the WANDB_NOTEBOOK_NAME environment variable to enable code saving.\n",
            "\u001b[34m\u001b[1mwandb\u001b[0m: Currently logged in as: \u001b[33maqua_524\u001b[0m (\u001b[33mcmf-credit-derivatives\u001b[0m). Use \u001b[1m`wandb login --relogin`\u001b[0m to force relogin\n"
          ]
        },
        {
          "output_type": "display_data",
          "data": {
            "text/plain": [
              "<IPython.core.display.HTML object>"
            ],
            "text/html": [
              "Tracking run with wandb version 0.13.4"
            ]
          },
          "metadata": {}
        },
        {
          "output_type": "display_data",
          "data": {
            "text/plain": [
              "<IPython.core.display.HTML object>"
            ],
            "text/html": [
              "Run data is saved locally in <code>/content/CreditDerivativesSimulator/wandb/run-20221029_221256-2jur5for</code>"
            ]
          },
          "metadata": {}
        },
        {
          "output_type": "display_data",
          "data": {
            "text/plain": [
              "<IPython.core.display.HTML object>"
            ],
            "text/html": [
              "Syncing run <strong><a href=\"https://wandb.ai/cmf-credit-derivatives/Final/runs/2jur5for\" target=\"_blank\">Kalman_filters_with_no_update</a></strong> to <a href=\"https://wandb.ai/cmf-credit-derivatives/Final\" target=\"_blank\">Weights & Biases</a> (<a href=\"https://wandb.me/run\" target=\"_blank\">docs</a>)<br/>"
            ]
          },
          "metadata": {}
        }
      ],
      "source": [
        "# Create an instance of your strategy and of simulator\n",
        "my_strategy = SimpleKalmanFilter()\n",
        "\n",
        "\n",
        "# If you use wandb, you will need to past an API key from your wandb account\n",
        "sim = Simulator(use_wandb=True, \n",
        "                debug_mode=False, \n",
        "                train_test_split_time='2019-01-02', # submit date in format 'yyyy-mm-dd'\n",
        "                run_name='Kalman_filters_with_no_update',\n",
        "                project_name='test') # or 'Final'"
      ]
    },
    {
      "cell_type": "code",
      "execution_count": 5,
      "metadata": {
        "colab": {
          "base_uri": "https://localhost:8080/"
        },
        "id": "rwYKw3a0zERk",
        "outputId": "945f5843-59e0-49c7-f192-9743483197ad"
      },
      "outputs": [
        {
          "output_type": "execute_result",
          "data": {
            "text/plain": [
              "['er_itraxx_xover_long',\n",
              " 'sx5e',\n",
              " 'ieac',\n",
              " 'er_itraxx_xover_short',\n",
              " 'ihyg',\n",
              " 'vix',\n",
              " 'spx',\n",
              " 'er_itraxx_main_long',\n",
              " 'er_cdx_ig_short',\n",
              " 'itraxx_xover_generic',\n",
              " 'cdx_ig_generic',\n",
              " 'er_cdx_ig_long',\n",
              " 'lqd',\n",
              " 'itraxx_main_generic',\n",
              " 'er_itraxx_main_short',\n",
              " 'hyg']"
            ]
          },
          "metadata": {},
          "execution_count": 5
        }
      ],
      "source": [
        "# Available tickers in new version\n",
        "sim.get_availiable_assets()"
      ]
    },
    {
      "cell_type": "code",
      "source": [
        "# Simulate your strategy\n",
        "sim.simulate(strategy=my_strategy)"
      ],
      "metadata": {
        "colab": {
          "base_uri": "https://localhost:8080/",
          "height": 530,
          "referenced_widgets": [
            "d645f1571c4d467cbf87ed72f132a10d",
            "7fb535d8b0dd4bb49153332c0c94b70e",
            "ce9c45571cd1435a8ed6798fdab0b3cc",
            "0164ddce1d434090b63448a0e9e06623",
            "01b6e5c4ea234faabaad2f914086cfa9",
            "f5c70c9eb41f4aa7a673b0bd3fe7433e",
            "0cb18a696b264a3fb7d57c3130189ef4",
            "384512b1f8434395ac4c90001d1a7ce0"
          ]
        },
        "id": "BCLtyuw7oW-a",
        "outputId": "ea53068a-d22b-4709-9479-f5faf638ea30"
      },
      "execution_count": 6,
      "outputs": [
        {
          "output_type": "stream",
          "name": "stderr",
          "text": [
            "100%|██████████| 941/941 [00:04<00:00, 195.53it/s]\n"
          ]
        },
        {
          "output_type": "stream",
          "name": "stdout",
          "text": [
            "\n",
            "Final value of portfolio 1.0257151818698989\n",
            "Sharpe of the porfolio 0.0034214759365425256\n",
            "Process completed!\n"
          ]
        },
        {
          "output_type": "display_data",
          "data": {
            "text/plain": [
              "<IPython.core.display.HTML object>"
            ],
            "text/html": [
              "Waiting for W&B process to finish... <strong style=\"color:green\">(success).</strong>"
            ]
          },
          "metadata": {}
        },
        {
          "output_type": "display_data",
          "data": {
            "text/plain": [
              "VBox(children=(Label(value='0.001 MB of 0.001 MB uploaded (0.000 MB deduped)\\r'), FloatProgress(value=1.0, max…"
            ],
            "application/vnd.jupyter.widget-view+json": {
              "version_major": 2,
              "version_minor": 0,
              "model_id": "d645f1571c4d467cbf87ed72f132a10d"
            }
          },
          "metadata": {}
        },
        {
          "output_type": "display_data",
          "data": {
            "text/plain": [
              "<IPython.core.display.HTML object>"
            ],
            "text/html": [
              "<style>\n",
              "    table.wandb td:nth-child(1) { padding: 0 10px; text-align: left ; width: auto;} td:nth-child(2) {text-align: left ; width: 100%}\n",
              "    .wandb-row { display: flex; flex-direction: row; flex-wrap: wrap; justify-content: flex-start; width: 100% }\n",
              "    .wandb-col { display: flex; flex-direction: column; flex-basis: 100%; flex: 1; padding: 10px; }\n",
              "    </style>\n",
              "<div class=\"wandb-row\"><div class=\"wandb-col\"><h3>Run history:</h3><br/><table class=\"wandb\"><tr><td>annualised_return (252 days)</td><td>██▆▆▄▅▄▄▄▄▄▄▃▂▂▃▂▃▃▂▂▂▂▄▃▃▃▃▃▃▃▃▃▂▂▂▂▁▂▁</td></tr><tr><td>annualised_return (total)</td><td>██▆▅▃▄▄▃▃▃▃▃▃▁▂▂▂▂▂▂▂▂▂▂▂▂▂▂▂▂▂▂▂▁▁▁▁▁▁▁</td></tr><tr><td>daily_return</td><td>▁▄▄▃▃▂▁▂▃▃▂▃▂█▁▅▂▃▃▂▃▃▃▃▂▂▃▂▃▂▃▂▂▂▂▂▃▃▄▂</td></tr><tr><td>drawdown (252 days)</td><td>█▇▆▅▅▅▄▄▄▃▃▄▅▂▂▂▂▂▁▁▁▁▁▁▄▅▆▆▆▆▇▇▇▇▆▆▆▄▄▄</td></tr><tr><td>drawdown (total)</td><td>█▇▇▆▆▅▅▅▅▄▄▄▄▃▃▃▃▃▃▃▃▂▂▂▂▂▂▁▁▁▁▁▁▁▁▁▁▁▁▁</td></tr><tr><td>portfolio_value</td><td>▁▂▃▄▃▄▄▅▄▅▅▆▆▃▄▅▅▆▆▆▆▆▆▆▇▇▇██████▇▇▆▆▄▆▅</td></tr><tr><td>sharpe</td><td>▁</td></tr></table><br/></div><div class=\"wandb-col\"><h3>Run summary:</h3><br/><table class=\"wandb\"><tr><td>annualised_return (252 days)</td><td>-9e-05</td></tr><tr><td>annualised_return (total)</td><td>3e-05</td></tr><tr><td>daily_return</td><td>-0.00157</td></tr><tr><td>drawdown (252 days)</td><td>-0.03023</td></tr><tr><td>drawdown (total)</td><td>-0.05645</td></tr><tr><td>portfolio_value</td><td>1.02572</td></tr><tr><td>sharpe</td><td>0.00342</td></tr></table><br/></div></div>"
            ]
          },
          "metadata": {}
        },
        {
          "output_type": "display_data",
          "data": {
            "text/plain": [
              "<IPython.core.display.HTML object>"
            ],
            "text/html": [
              "Synced <strong style=\"color:#cdcd00\">Kalman_filters_with_no_update</strong>: <a href=\"https://wandb.ai/cmf-credit-derivatives/Final/runs/2jur5for\" target=\"_blank\">https://wandb.ai/cmf-credit-derivatives/Final/runs/2jur5for</a><br/>Synced 5 W&B file(s), 0 media file(s), 0 artifact file(s) and 0 other file(s)"
            ]
          },
          "metadata": {}
        },
        {
          "output_type": "display_data",
          "data": {
            "text/plain": [
              "<IPython.core.display.HTML object>"
            ],
            "text/html": [
              "Find logs at: <code>./wandb/run-20221029_221256-2jur5for/logs</code>"
            ]
          },
          "metadata": {}
        }
      ]
    },
    {
      "cell_type": "markdown",
      "metadata": {
        "id": "k9PJhYX-yx0u"
      },
      "source": [
        "# Debugging tools\n",
        "\n",
        "Now you can access the training and testing data without running a strategy. Firstly initialise a simulator, and then call these functions (without calling 'sim.simulate'):"
      ]
    },
    {
      "cell_type": "code",
      "execution_count": 7,
      "metadata": {
        "id": "cYjV-WWu075u"
      },
      "outputs": [],
      "source": [
        "# Initialise a simulator for getting train and test data\n",
        "debug_sim = Simulator(use_wandb=False,\n",
        "                      train_test_split_time='2019-01-02')"
      ]
    },
    {
      "cell_type": "code",
      "execution_count": 8,
      "metadata": {
        "colab": {
          "base_uri": "https://localhost:8080/",
          "height": 388
        },
        "id": "Z514VvtTyzZS",
        "outputId": "1261ef36-64f7-4227-f4cd-492900e782ba"
      },
      "outputs": [
        {
          "output_type": "execute_result",
          "data": {
            "text/plain": [
              "            er_itraxx_xover_long       sx5e  ieac  er_itraxx_xover_short  \\\n",
              "Date                                                                       \n",
              "2007-03-20              100.0000  4079.5200   NaN               100.0000   \n",
              "2007-03-21              100.2951  4078.2900   NaN                99.7046   \n",
              "2007-03-22              100.8037  4170.0801   NaN                99.1985   \n",
              "2007-03-23              100.8924  4191.5801   NaN                99.1111   \n",
              "2007-03-26              100.7493  4142.1099   NaN                99.2515   \n",
              "\n",
              "            ihyg    vix      spx  er_itraxx_main_long  er_cdx_ig_short  \\\n",
              "Date                                                                     \n",
              "2007-03-20   NaN  13.27  1410.94             100.0000         100.0000   \n",
              "2007-03-21   NaN  12.19  1435.04             100.0287          99.9150   \n",
              "2007-03-22   NaN  12.93  1434.54             100.0833          99.8854   \n",
              "2007-03-23   NaN  12.95  1436.11             100.1090          99.8892   \n",
              "2007-03-26   NaN  13.16  1437.50             100.1063          99.9317   \n",
              "\n",
              "            itraxx_xover_generic  cdx_ig_generic  er_cdx_ig_long      lqd  \\\n",
              "Date                                                                        \n",
              "2007-03-20                   NaN             NaN        100.0000  58.9123   \n",
              "2007-03-21                   NaN             NaN        100.0850  59.0875   \n",
              "2007-03-22                   NaN             NaN        100.1147  58.9232   \n",
              "2007-03-23                   NaN             NaN        100.1108  58.7699   \n",
              "2007-03-26                   NaN             NaN        100.0683  58.8794   \n",
              "\n",
              "            itraxx_main_generic  er_itraxx_main_short  hyg  \n",
              "Date                                                        \n",
              "2007-03-20                  NaN              100.0000  NaN  \n",
              "2007-03-21                  NaN               99.9713  NaN  \n",
              "2007-03-22                  NaN               99.9168  NaN  \n",
              "2007-03-23                  NaN               99.8911  NaN  \n",
              "2007-03-26                  NaN               99.8937  NaN  "
            ],
            "text/html": [
              "\n",
              "  <div id=\"df-29f1f1ac-1212-46f5-a522-0af766a12781\">\n",
              "    <div class=\"colab-df-container\">\n",
              "      <div>\n",
              "<style scoped>\n",
              "    .dataframe tbody tr th:only-of-type {\n",
              "        vertical-align: middle;\n",
              "    }\n",
              "\n",
              "    .dataframe tbody tr th {\n",
              "        vertical-align: top;\n",
              "    }\n",
              "\n",
              "    .dataframe thead th {\n",
              "        text-align: right;\n",
              "    }\n",
              "</style>\n",
              "<table border=\"1\" class=\"dataframe\">\n",
              "  <thead>\n",
              "    <tr style=\"text-align: right;\">\n",
              "      <th></th>\n",
              "      <th>er_itraxx_xover_long</th>\n",
              "      <th>sx5e</th>\n",
              "      <th>ieac</th>\n",
              "      <th>er_itraxx_xover_short</th>\n",
              "      <th>ihyg</th>\n",
              "      <th>vix</th>\n",
              "      <th>spx</th>\n",
              "      <th>er_itraxx_main_long</th>\n",
              "      <th>er_cdx_ig_short</th>\n",
              "      <th>itraxx_xover_generic</th>\n",
              "      <th>cdx_ig_generic</th>\n",
              "      <th>er_cdx_ig_long</th>\n",
              "      <th>lqd</th>\n",
              "      <th>itraxx_main_generic</th>\n",
              "      <th>er_itraxx_main_short</th>\n",
              "      <th>hyg</th>\n",
              "    </tr>\n",
              "    <tr>\n",
              "      <th>Date</th>\n",
              "      <th></th>\n",
              "      <th></th>\n",
              "      <th></th>\n",
              "      <th></th>\n",
              "      <th></th>\n",
              "      <th></th>\n",
              "      <th></th>\n",
              "      <th></th>\n",
              "      <th></th>\n",
              "      <th></th>\n",
              "      <th></th>\n",
              "      <th></th>\n",
              "      <th></th>\n",
              "      <th></th>\n",
              "      <th></th>\n",
              "      <th></th>\n",
              "    </tr>\n",
              "  </thead>\n",
              "  <tbody>\n",
              "    <tr>\n",
              "      <th>2007-03-20</th>\n",
              "      <td>100.0000</td>\n",
              "      <td>4079.5200</td>\n",
              "      <td>NaN</td>\n",
              "      <td>100.0000</td>\n",
              "      <td>NaN</td>\n",
              "      <td>13.27</td>\n",
              "      <td>1410.94</td>\n",
              "      <td>100.0000</td>\n",
              "      <td>100.0000</td>\n",
              "      <td>NaN</td>\n",
              "      <td>NaN</td>\n",
              "      <td>100.0000</td>\n",
              "      <td>58.9123</td>\n",
              "      <td>NaN</td>\n",
              "      <td>100.0000</td>\n",
              "      <td>NaN</td>\n",
              "    </tr>\n",
              "    <tr>\n",
              "      <th>2007-03-21</th>\n",
              "      <td>100.2951</td>\n",
              "      <td>4078.2900</td>\n",
              "      <td>NaN</td>\n",
              "      <td>99.7046</td>\n",
              "      <td>NaN</td>\n",
              "      <td>12.19</td>\n",
              "      <td>1435.04</td>\n",
              "      <td>100.0287</td>\n",
              "      <td>99.9150</td>\n",
              "      <td>NaN</td>\n",
              "      <td>NaN</td>\n",
              "      <td>100.0850</td>\n",
              "      <td>59.0875</td>\n",
              "      <td>NaN</td>\n",
              "      <td>99.9713</td>\n",
              "      <td>NaN</td>\n",
              "    </tr>\n",
              "    <tr>\n",
              "      <th>2007-03-22</th>\n",
              "      <td>100.8037</td>\n",
              "      <td>4170.0801</td>\n",
              "      <td>NaN</td>\n",
              "      <td>99.1985</td>\n",
              "      <td>NaN</td>\n",
              "      <td>12.93</td>\n",
              "      <td>1434.54</td>\n",
              "      <td>100.0833</td>\n",
              "      <td>99.8854</td>\n",
              "      <td>NaN</td>\n",
              "      <td>NaN</td>\n",
              "      <td>100.1147</td>\n",
              "      <td>58.9232</td>\n",
              "      <td>NaN</td>\n",
              "      <td>99.9168</td>\n",
              "      <td>NaN</td>\n",
              "    </tr>\n",
              "    <tr>\n",
              "      <th>2007-03-23</th>\n",
              "      <td>100.8924</td>\n",
              "      <td>4191.5801</td>\n",
              "      <td>NaN</td>\n",
              "      <td>99.1111</td>\n",
              "      <td>NaN</td>\n",
              "      <td>12.95</td>\n",
              "      <td>1436.11</td>\n",
              "      <td>100.1090</td>\n",
              "      <td>99.8892</td>\n",
              "      <td>NaN</td>\n",
              "      <td>NaN</td>\n",
              "      <td>100.1108</td>\n",
              "      <td>58.7699</td>\n",
              "      <td>NaN</td>\n",
              "      <td>99.8911</td>\n",
              "      <td>NaN</td>\n",
              "    </tr>\n",
              "    <tr>\n",
              "      <th>2007-03-26</th>\n",
              "      <td>100.7493</td>\n",
              "      <td>4142.1099</td>\n",
              "      <td>NaN</td>\n",
              "      <td>99.2515</td>\n",
              "      <td>NaN</td>\n",
              "      <td>13.16</td>\n",
              "      <td>1437.50</td>\n",
              "      <td>100.1063</td>\n",
              "      <td>99.9317</td>\n",
              "      <td>NaN</td>\n",
              "      <td>NaN</td>\n",
              "      <td>100.0683</td>\n",
              "      <td>58.8794</td>\n",
              "      <td>NaN</td>\n",
              "      <td>99.8937</td>\n",
              "      <td>NaN</td>\n",
              "    </tr>\n",
              "  </tbody>\n",
              "</table>\n",
              "</div>\n",
              "      <button class=\"colab-df-convert\" onclick=\"convertToInteractive('df-29f1f1ac-1212-46f5-a522-0af766a12781')\"\n",
              "              title=\"Convert this dataframe to an interactive table.\"\n",
              "              style=\"display:none;\">\n",
              "        \n",
              "  <svg xmlns=\"http://www.w3.org/2000/svg\" height=\"24px\"viewBox=\"0 0 24 24\"\n",
              "       width=\"24px\">\n",
              "    <path d=\"M0 0h24v24H0V0z\" fill=\"none\"/>\n",
              "    <path d=\"M18.56 5.44l.94 2.06.94-2.06 2.06-.94-2.06-.94-.94-2.06-.94 2.06-2.06.94zm-11 1L8.5 8.5l.94-2.06 2.06-.94-2.06-.94L8.5 2.5l-.94 2.06-2.06.94zm10 10l.94 2.06.94-2.06 2.06-.94-2.06-.94-.94-2.06-.94 2.06-2.06.94z\"/><path d=\"M17.41 7.96l-1.37-1.37c-.4-.4-.92-.59-1.43-.59-.52 0-1.04.2-1.43.59L10.3 9.45l-7.72 7.72c-.78.78-.78 2.05 0 2.83L4 21.41c.39.39.9.59 1.41.59.51 0 1.02-.2 1.41-.59l7.78-7.78 2.81-2.81c.8-.78.8-2.07 0-2.86zM5.41 20L4 18.59l7.72-7.72 1.47 1.35L5.41 20z\"/>\n",
              "  </svg>\n",
              "      </button>\n",
              "      \n",
              "  <style>\n",
              "    .colab-df-container {\n",
              "      display:flex;\n",
              "      flex-wrap:wrap;\n",
              "      gap: 12px;\n",
              "    }\n",
              "\n",
              "    .colab-df-convert {\n",
              "      background-color: #E8F0FE;\n",
              "      border: none;\n",
              "      border-radius: 50%;\n",
              "      cursor: pointer;\n",
              "      display: none;\n",
              "      fill: #1967D2;\n",
              "      height: 32px;\n",
              "      padding: 0 0 0 0;\n",
              "      width: 32px;\n",
              "    }\n",
              "\n",
              "    .colab-df-convert:hover {\n",
              "      background-color: #E2EBFA;\n",
              "      box-shadow: 0px 1px 2px rgba(60, 64, 67, 0.3), 0px 1px 3px 1px rgba(60, 64, 67, 0.15);\n",
              "      fill: #174EA6;\n",
              "    }\n",
              "\n",
              "    [theme=dark] .colab-df-convert {\n",
              "      background-color: #3B4455;\n",
              "      fill: #D2E3FC;\n",
              "    }\n",
              "\n",
              "    [theme=dark] .colab-df-convert:hover {\n",
              "      background-color: #434B5C;\n",
              "      box-shadow: 0px 1px 3px 1px rgba(0, 0, 0, 0.15);\n",
              "      filter: drop-shadow(0px 1px 2px rgba(0, 0, 0, 0.3));\n",
              "      fill: #FFFFFF;\n",
              "    }\n",
              "  </style>\n",
              "\n",
              "      <script>\n",
              "        const buttonEl =\n",
              "          document.querySelector('#df-29f1f1ac-1212-46f5-a522-0af766a12781 button.colab-df-convert');\n",
              "        buttonEl.style.display =\n",
              "          google.colab.kernel.accessAllowed ? 'block' : 'none';\n",
              "\n",
              "        async function convertToInteractive(key) {\n",
              "          const element = document.querySelector('#df-29f1f1ac-1212-46f5-a522-0af766a12781');\n",
              "          const dataTable =\n",
              "            await google.colab.kernel.invokeFunction('convertToInteractive',\n",
              "                                                     [key], {});\n",
              "          if (!dataTable) return;\n",
              "\n",
              "          const docLinkHtml = 'Like what you see? Visit the ' +\n",
              "            '<a target=\"_blank\" href=https://colab.research.google.com/notebooks/data_table.ipynb>data table notebook</a>'\n",
              "            + ' to learn more about interactive tables.';\n",
              "          element.innerHTML = '';\n",
              "          dataTable['output_type'] = 'display_data';\n",
              "          await google.colab.output.renderOutput(dataTable, element);\n",
              "          const docLink = document.createElement('div');\n",
              "          docLink.innerHTML = docLinkHtml;\n",
              "          element.appendChild(docLink);\n",
              "        }\n",
              "      </script>\n",
              "    </div>\n",
              "  </div>\n",
              "  "
            ]
          },
          "metadata": {},
          "execution_count": 8
        }
      ],
      "source": [
        "# Get training data\n",
        "training_data = debug_sim.get_training_data()\n",
        "\n",
        "training_data.head()"
      ]
    },
    {
      "cell_type": "code",
      "execution_count": 9,
      "metadata": {
        "id": "N1fpnTK30yzm"
      },
      "outputs": [],
      "source": [
        "# Get test data at each trading day:\n",
        "\n",
        "# Initialise an iterator\n",
        "test_data = debug_sim.get_test_data()"
      ]
    },
    {
      "cell_type": "code",
      "execution_count": 10,
      "metadata": {
        "colab": {
          "base_uri": "https://localhost:8080/"
        },
        "id": "5v9Fgp0T1eb7",
        "outputId": "7faf4351-0eae-461c-ec4b-2e3df7c2faee"
      },
      "outputs": [
        {
          "output_type": "stream",
          "name": "stdout",
          "text": [
            "{'er_itraxx_xover_long': 191.6516, 'sx5e': 2993.1799, 'ieac': 123.4972, 'er_itraxx_xover_short': 43.5902, 'ihyg': 86.4939, 'vix': 23.22, 'spx': 2510.03, 'er_itraxx_main_long': 110.8989, 'er_cdx_ig_short': 88.1972, 'itraxx_xover_generic': 361.295, 'cdx_ig_generic': 88.788, 'er_cdx_ig_long': 108.1261, 'lqd': 101.7235, 'itraxx_main_generic': 89.224, 'er_itraxx_main_short': 85.8357, 'hyg': 67.6908}\n"
          ]
        }
      ],
      "source": [
        "# Get what trade() function receives at each step\n",
        "# Each time you call this cell, you will receive data for next\n",
        "# trade day, to reset test data call previous cell\n",
        "for trade_day in test_data:\n",
        "  print(trade_day)\n",
        "  break"
      ]
    },
    {
      "cell_type": "markdown",
      "metadata": {
        "id": "IJXZjU8Y5DK-"
      },
      "source": [
        "# Details about the computation of Sharpe, Maximum Drawdown, and Annualised return\n",
        "\n",
        "- Sharpe is calculated by the following formula:\n",
        "\n",
        "$$ Sharpe = \\frac{average \\; daily \\; return - risk \\; free \\;rate}{standard \\; deviation \\; daily \\; return} $$\n",
        "\n",
        "where risk free rate is computed as an average of 1 month treasury yields over the trading interval, which is then converted to an average daily rate by the formula\n",
        "\n",
        "$$ risk \\; free \\;rate \\; daily = (1 + risk \\; free \\;rate \\; annual)^{1 / 365} - 1 $$\n",
        "\n",
        "- Maximum Drawdown is computed by the formula:\n",
        "\n",
        "$$ Maximum \\; Drawdown = \\frac{lowest \\; value - highest \\; value}{highest \\; value} $$\n",
        "\n",
        "where the highest and lowest values are specified over the trailing period.\n",
        "\n",
        "- Annualised return is computed as:\n",
        "\n",
        "$$ Annualised \\; return = [(1 + daily \\; return_1) * (1 + daily \\; return_2) * ... * (1 + daily \\; return_n) ]^{1 / n} - 1 $$\n",
        "\n",
        "Where n is chosen according to the prespecified period.\n"
      ]
    },
    {
      "cell_type": "code",
      "execution_count": 10,
      "metadata": {
        "id": "6FwXvwMx1ptX"
      },
      "outputs": [],
      "source": []
    }
  ],
  "metadata": {
    "colab": {
      "collapsed_sections": [],
      "provenance": [],
      "include_colab_link": true
    },
    "kernelspec": {
      "display_name": "Python 3",
      "name": "python3"
    },
    "language_info": {
      "name": "python"
    },
    "widgets": {
      "application/vnd.jupyter.widget-state+json": {
        "d645f1571c4d467cbf87ed72f132a10d": {
          "model_module": "@jupyter-widgets/controls",
          "model_name": "VBoxModel",
          "model_module_version": "1.5.0",
          "state": {
            "_dom_classes": [],
            "_model_module": "@jupyter-widgets/controls",
            "_model_module_version": "1.5.0",
            "_model_name": "VBoxModel",
            "_view_count": null,
            "_view_module": "@jupyter-widgets/controls",
            "_view_module_version": "1.5.0",
            "_view_name": "VBoxView",
            "box_style": "",
            "children": [
              "IPY_MODEL_7fb535d8b0dd4bb49153332c0c94b70e",
              "IPY_MODEL_ce9c45571cd1435a8ed6798fdab0b3cc"
            ],
            "layout": "IPY_MODEL_0164ddce1d434090b63448a0e9e06623"
          }
        },
        "7fb535d8b0dd4bb49153332c0c94b70e": {
          "model_module": "@jupyter-widgets/controls",
          "model_name": "LabelModel",
          "model_module_version": "1.5.0",
          "state": {
            "_dom_classes": [],
            "_model_module": "@jupyter-widgets/controls",
            "_model_module_version": "1.5.0",
            "_model_name": "LabelModel",
            "_view_count": null,
            "_view_module": "@jupyter-widgets/controls",
            "_view_module_version": "1.5.0",
            "_view_name": "LabelView",
            "description": "",
            "description_tooltip": null,
            "layout": "IPY_MODEL_01b6e5c4ea234faabaad2f914086cfa9",
            "placeholder": "​",
            "style": "IPY_MODEL_f5c70c9eb41f4aa7a673b0bd3fe7433e",
            "value": "0.001 MB of 0.009 MB uploaded (0.000 MB deduped)\r"
          }
        },
        "ce9c45571cd1435a8ed6798fdab0b3cc": {
          "model_module": "@jupyter-widgets/controls",
          "model_name": "FloatProgressModel",
          "model_module_version": "1.5.0",
          "state": {
            "_dom_classes": [],
            "_model_module": "@jupyter-widgets/controls",
            "_model_module_version": "1.5.0",
            "_model_name": "FloatProgressModel",
            "_view_count": null,
            "_view_module": "@jupyter-widgets/controls",
            "_view_module_version": "1.5.0",
            "_view_name": "ProgressView",
            "bar_style": "",
            "description": "",
            "description_tooltip": null,
            "layout": "IPY_MODEL_0cb18a696b264a3fb7d57c3130189ef4",
            "max": 1,
            "min": 0,
            "orientation": "horizontal",
            "style": "IPY_MODEL_384512b1f8434395ac4c90001d1a7ce0",
            "value": 0.07268477292965271
          }
        },
        "0164ddce1d434090b63448a0e9e06623": {
          "model_module": "@jupyter-widgets/base",
          "model_name": "LayoutModel",
          "model_module_version": "1.2.0",
          "state": {
            "_model_module": "@jupyter-widgets/base",
            "_model_module_version": "1.2.0",
            "_model_name": "LayoutModel",
            "_view_count": null,
            "_view_module": "@jupyter-widgets/base",
            "_view_module_version": "1.2.0",
            "_view_name": "LayoutView",
            "align_content": null,
            "align_items": null,
            "align_self": null,
            "border": null,
            "bottom": null,
            "display": null,
            "flex": null,
            "flex_flow": null,
            "grid_area": null,
            "grid_auto_columns": null,
            "grid_auto_flow": null,
            "grid_auto_rows": null,
            "grid_column": null,
            "grid_gap": null,
            "grid_row": null,
            "grid_template_areas": null,
            "grid_template_columns": null,
            "grid_template_rows": null,
            "height": null,
            "justify_content": null,
            "justify_items": null,
            "left": null,
            "margin": null,
            "max_height": null,
            "max_width": null,
            "min_height": null,
            "min_width": null,
            "object_fit": null,
            "object_position": null,
            "order": null,
            "overflow": null,
            "overflow_x": null,
            "overflow_y": null,
            "padding": null,
            "right": null,
            "top": null,
            "visibility": null,
            "width": null
          }
        },
        "01b6e5c4ea234faabaad2f914086cfa9": {
          "model_module": "@jupyter-widgets/base",
          "model_name": "LayoutModel",
          "model_module_version": "1.2.0",
          "state": {
            "_model_module": "@jupyter-widgets/base",
            "_model_module_version": "1.2.0",
            "_model_name": "LayoutModel",
            "_view_count": null,
            "_view_module": "@jupyter-widgets/base",
            "_view_module_version": "1.2.0",
            "_view_name": "LayoutView",
            "align_content": null,
            "align_items": null,
            "align_self": null,
            "border": null,
            "bottom": null,
            "display": null,
            "flex": null,
            "flex_flow": null,
            "grid_area": null,
            "grid_auto_columns": null,
            "grid_auto_flow": null,
            "grid_auto_rows": null,
            "grid_column": null,
            "grid_gap": null,
            "grid_row": null,
            "grid_template_areas": null,
            "grid_template_columns": null,
            "grid_template_rows": null,
            "height": null,
            "justify_content": null,
            "justify_items": null,
            "left": null,
            "margin": null,
            "max_height": null,
            "max_width": null,
            "min_height": null,
            "min_width": null,
            "object_fit": null,
            "object_position": null,
            "order": null,
            "overflow": null,
            "overflow_x": null,
            "overflow_y": null,
            "padding": null,
            "right": null,
            "top": null,
            "visibility": null,
            "width": null
          }
        },
        "f5c70c9eb41f4aa7a673b0bd3fe7433e": {
          "model_module": "@jupyter-widgets/controls",
          "model_name": "DescriptionStyleModel",
          "model_module_version": "1.5.0",
          "state": {
            "_model_module": "@jupyter-widgets/controls",
            "_model_module_version": "1.5.0",
            "_model_name": "DescriptionStyleModel",
            "_view_count": null,
            "_view_module": "@jupyter-widgets/base",
            "_view_module_version": "1.2.0",
            "_view_name": "StyleView",
            "description_width": ""
          }
        },
        "0cb18a696b264a3fb7d57c3130189ef4": {
          "model_module": "@jupyter-widgets/base",
          "model_name": "LayoutModel",
          "model_module_version": "1.2.0",
          "state": {
            "_model_module": "@jupyter-widgets/base",
            "_model_module_version": "1.2.0",
            "_model_name": "LayoutModel",
            "_view_count": null,
            "_view_module": "@jupyter-widgets/base",
            "_view_module_version": "1.2.0",
            "_view_name": "LayoutView",
            "align_content": null,
            "align_items": null,
            "align_self": null,
            "border": null,
            "bottom": null,
            "display": null,
            "flex": null,
            "flex_flow": null,
            "grid_area": null,
            "grid_auto_columns": null,
            "grid_auto_flow": null,
            "grid_auto_rows": null,
            "grid_column": null,
            "grid_gap": null,
            "grid_row": null,
            "grid_template_areas": null,
            "grid_template_columns": null,
            "grid_template_rows": null,
            "height": null,
            "justify_content": null,
            "justify_items": null,
            "left": null,
            "margin": null,
            "max_height": null,
            "max_width": null,
            "min_height": null,
            "min_width": null,
            "object_fit": null,
            "object_position": null,
            "order": null,
            "overflow": null,
            "overflow_x": null,
            "overflow_y": null,
            "padding": null,
            "right": null,
            "top": null,
            "visibility": null,
            "width": null
          }
        },
        "384512b1f8434395ac4c90001d1a7ce0": {
          "model_module": "@jupyter-widgets/controls",
          "model_name": "ProgressStyleModel",
          "model_module_version": "1.5.0",
          "state": {
            "_model_module": "@jupyter-widgets/controls",
            "_model_module_version": "1.5.0",
            "_model_name": "ProgressStyleModel",
            "_view_count": null,
            "_view_module": "@jupyter-widgets/base",
            "_view_module_version": "1.2.0",
            "_view_name": "StyleView",
            "bar_color": null,
            "description_width": ""
          }
        }
      }
    }
  },
  "nbformat": 4,
  "nbformat_minor": 0
}