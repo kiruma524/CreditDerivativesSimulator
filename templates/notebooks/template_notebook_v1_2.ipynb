{
  "nbformat": 4,
  "nbformat_minor": 0,
  "metadata": {
    "colab": {
      "provenance": [],
      "collapsed_sections": [],
      "authorship_tag": "ABX9TyPe8AYYqMLXc7yY/xAYczEG",
      "include_colab_link": true
    },
    "kernelspec": {
      "name": "python3",
      "display_name": "Python 3"
    },
    "language_info": {
      "name": "python"
    }
  },
  "cells": [
    {
      "cell_type": "markdown",
      "metadata": {
        "id": "view-in-github",
        "colab_type": "text"
      },
      "source": [
        "<a href=\"https://colab.research.google.com/github/vladargunov/CreditDerivativesSimulator/blob/master/templates/notebooks/template_notebook_v1_2.ipynb\" target=\"_parent\"><img src=\"https://colab.research.google.com/assets/colab-badge.svg\" alt=\"Open In Colab\"/></a>"
      ]
    },
    {
      "cell_type": "markdown",
      "source": [
        "$\\Huge Version 1.2$"
      ],
      "metadata": {
        "id": "oN9rNLbn3O4L"
      }
    },
    {
      "cell_type": "markdown",
      "source": [
        "# Template for Developing Credit Trading Strategies\n",
        "\n",
        "What's new in version 1.2?\n",
        "\n",
        "- Thanks to [ArturArifullin](https://github.com/ArturArifullin) and [YaFandCo](https://github.com/YaFandCo) the Sharpe and Annualised Returns are computed correctly.\n",
        "\n",
        "- Now your portfolio weights are reported in Wandb.\n",
        "\n",
        "- The Sharpe is now dynamic and is reported for the last year and the whole period separately.\n",
        "\n",
        "- From this version the simulator will compute two sets of metrics, first involving transaction costs and the other one without them.\n",
        "\n",
        "- Added steps to dates table to find the date periods in hte graphs.\n",
        "\n",
        "- If you submit your strategy into \"Final\" project, the date for test period will be automatically set to 2019-01-02. For \"Test\" projects you can set any convenient for you date.\n",
        "\n"
      ],
      "metadata": {
        "id": "xH4Ql9vP2xP5"
      }
    },
    {
      "cell_type": "markdown",
      "source": [
        "Please set a version of simulator that you require, it is very advisable to use the latest version with tag \"latest\" since it includes all latest features."
      ],
      "metadata": {
        "id": "e0Pjz17nDjHY"
      }
    },
    {
      "cell_type": "code",
      "source": [
        "VERSION =  \"latest\" #@param {type:\"string\"}"
      ],
      "metadata": {
        "id": "PJEI6IUUAwAn"
      },
      "execution_count": 1,
      "outputs": []
    },
    {
      "cell_type": "code",
      "execution_count": 7,
      "metadata": {
        "id": "YkzDBvij2kZS",
        "colab": {
          "base_uri": "https://localhost:8080/"
        },
        "outputId": "c2ef9942-9aef-4f55-9443-d29a116319be",
        "cellView": "form"
      },
      "outputs": [
        {
          "output_type": "stream",
          "name": "stdout",
          "text": [
            "Cloning into 'CreditDerivativesSimulator'...\n",
            "remote: Enumerating objects: 257, done.\u001b[K\n",
            "remote: Counting objects: 100% (69/69), done.\u001b[K\n",
            "remote: Compressing objects: 100% (46/46), done.\u001b[K\n",
            "remote: Total 257 (delta 47), reused 40 (delta 23), pack-reused 188\u001b[K\n",
            "Receiving objects: 100% (257/257), 49.46 KiB | 1.15 MiB/s, done.\n",
            "Resolving deltas: 100% (161/161), done.\n",
            "/content/CreditDerivativesSimulator/CreditDerivativesSimulator\n"
          ]
        }
      ],
      "source": [
        "#@title [RUN] Install required python libraries and clone the repo\n",
        "\n",
        "# Assert for correct version\n",
        "assert VERSION in ['v1.0', 'v1.1', 'v1.2', 'latest'], 'Specify correct version!' + \\\n",
        "                            'Available versions are \"v1.0\", \"v1.1\" , \"v1.2\" and \"latest\".'\n",
        "\n",
        "!pip install wandb -q\n",
        "if VERSION == \"latest\":\n",
        "    !git clone https://github.com/vladargunov/CreditDerivativesSimulator.git\n",
        "else:\n",
        "    !git clone -b $VERSION https://github.com/vladargunov/CreditDerivativesSimulator.git\n",
        "\n",
        "# Import necessary classses\n",
        "%cd CreditDerivativesSimulator\n",
        "from src.base_strategy import BaseStrategy\n",
        "from src.simulator import Simulator"
      ]
    },
    {
      "cell_type": "markdown",
      "source": [
        "# Migration from previous version\n",
        "\n",
        "As in previous versions, all you need to do is to copy your strategy in the next cell."
      ],
      "metadata": {
        "id": "ZtNp5jkiDVr8"
      }
    },
    {
      "cell_type": "code",
      "source": [
        "class MyFirstStrategy(BaseStrategy):\n",
        "  def train_model(self, train_data):\n",
        "    pass\n",
        "\n",
        "  def trade(self, daily_data) -> dict:\n",
        "    return {'spx' : .1}"
      ],
      "metadata": {
        "id": "agOjDrM7DbgW"
      },
      "execution_count": 3,
      "outputs": []
    },
    {
      "cell_type": "markdown",
      "source": [
        "# Testing your strategy\n",
        "\n",
        "Note that a simulator now requires an additional parameter of *transaction_costs*, which computes the fraction of portfolio values that were changed from the previous day. For example, if your portfolio value in the previous day was 1.5 and you increased your position on 0.1 value, then the transaction cost for such operation would be \n",
        "\n",
        "$ Cost = 1.5 * 0.1 * TransactionCosts$, \n",
        "\n",
        "which will be subtracted from portfolio value and will change your daily return and other metrics."
      ],
      "metadata": {
        "id": "j5GXsuDtGDLv"
      }
    },
    {
      "cell_type": "code",
      "source": [
        "# Create an instance of your strategy and of simulator\n",
        "my_strategy = MyFirstStrategy()\n",
        "\n",
        "\n",
        "# If you use wandb, you will need to past an API key from your wandb account\n",
        "sim = Simulator(use_wandb=True, \n",
        "                debug_mode=False, \n",
        "                train_test_split_time='2019-01-02', # submit date in format 'yyyy-mm-dd'\n",
        "                transaction_costs=0.003, # Fraction of changes in portfolio that goes into transaction costs\n",
        "                run_name='MyFirstStrategy1',\n",
        "                project_name='Test') # or 'Final'"
      ],
      "metadata": {
        "id": "WrC96jvOGFey"
      },
      "execution_count": null,
      "outputs": []
    },
    {
      "cell_type": "code",
      "source": [
        "# Available tickers in new version\n",
        "sim.get_available_assets()"
      ],
      "metadata": {
        "id": "rwYKw3a0zERk"
      },
      "execution_count": null,
      "outputs": []
    },
    {
      "cell_type": "code",
      "source": [
        "# Simulate your strategy\n",
        "sim.simulate(strategy=my_strategy)"
      ],
      "metadata": {
        "id": "qZ5w4VaWzjET"
      },
      "execution_count": null,
      "outputs": []
    },
    {
      "cell_type": "markdown",
      "source": [
        "# Correct calculations of Sharpe and Annualised Return\n",
        "\n",
        "As it was correctly pointed out to me, the correct formulas for Sharpe and Annualised return are\n",
        "\n",
        "$$ Sharpe = \\frac{average \\; daily \\; return - risk \\; free \\;rate}{standard \\; deviation \\; daily \\; return} * \\sqrt{252}$$\n",
        "\n",
        "$$ Annualised \\; return = [(1 + daily \\; return_1) * (1 + daily \\; return_2) * ... * (1 + daily \\; return_n) ]^{252 / n} - 1 $$"
      ],
      "metadata": {
        "id": "Lf1Uct98ksr_"
      }
    },
    {
      "cell_type": "markdown",
      "source": [
        "# Find dates corresponding to the test metric \"Step\" in the simulator\n",
        "\n",
        "Since we need to observe how portfolio behaves over time and know correctly at which date it happens, now the simulator produces tables of dates that correspond to metric \"Step\" from simulator. \n",
        "\n",
        "If you work in \"Final\" environment, this table is available directly in Wandb UI.\n",
        "\n",
        "Additionally, if you work in \"Test\" environment, the csv file is available in the path \"/content/CreditDerivativesSimulator/supplementary_data\".\n",
        "\n",
        "Unfortunately, the dates as x-metrics are not supprted by Wandb, but the things might change in the nearest future, see this [issue](https://github.com/wandb/wandb/issues/4063)."
      ],
      "metadata": {
        "id": "k8gGqDSupaKo"
      }
    },
    {
      "cell_type": "markdown",
      "source": [
        "# Pro Tips\n",
        "\n",
        "In this last section I will introduce some tricks that may make your development of strategies easier."
      ],
      "metadata": {
        "id": "LuWdKXa0liTB"
      }
    },
    {
      "cell_type": "markdown",
      "source": [
        "## Pro Tip 1:\n",
        "\n",
        "Set you Wandb API in the notebook to not to copy each time you want to test your strategy, this is done by one-liner below:"
      ],
      "metadata": {
        "id": "JL1PwU_ml1Di"
      }
    },
    {
      "cell_type": "code",
      "source": [
        "import os\n",
        "os.environ[\"WANDB_API_KEY\"] = 'YOUR WANDB API KEY'"
      ],
      "metadata": {
        "id": "NK7XCh_oe8bW"
      },
      "execution_count": null,
      "outputs": []
    },
    {
      "cell_type": "markdown",
      "source": [
        "## Pro Tip 2:\n",
        "\n",
        "If you wish to log your custom metrics wich are not presented in your strategy, you can do it by the simple command \n",
        "\n",
        "**wandb.log({\"name_metric\" : value_metric})**\n",
        "\n",
        "Then please contact me about what you wish to introduce and I will add your metric to the Wandb UI.\n",
        "\n",
        "See code below on example how it can be achieved:"
      ],
      "metadata": {
        "id": "QJq6NHVamOSr"
      }
    },
    {
      "cell_type": "code",
      "source": [
        "import random\n",
        "import wandb\n",
        "\n",
        "class MyFirstStrategy(BaseStrategy):\n",
        "  def train_model(self, train_data):\n",
        "    pass\n",
        "\n",
        "  def trade(self, daily_data) -> dict:\n",
        "    some_metric = random.rand()\n",
        "    # Log your custom metric each trade day\n",
        "    wandb.log({'some_metric' : some_metric})\n",
        "    return {'spx' : .1}"
      ],
      "metadata": {
        "id": "knMQ9e2Mm0So"
      },
      "execution_count": null,
      "outputs": []
    }
  ]
}