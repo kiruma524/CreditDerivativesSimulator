{
  "nbformat": 4,
  "nbformat_minor": 0,
  "metadata": {
    "colab": {
      "provenance": [],
      "collapsed_sections": [],
      "authorship_tag": "ABX9TyOB0MlCLBOqZ68SjqaAfBNv",
      "include_colab_link": true
    },
    "kernelspec": {
      "name": "python3",
      "display_name": "Python 3"
    },
    "language_info": {
      "name": "python"
    }
  },
  "cells": [
    {
      "cell_type": "markdown",
      "metadata": {
        "id": "view-in-github",
        "colab_type": "text"
      },
      "source": [
        "<a href=\"https://colab.research.google.com/github/vladargunov/CreditDerivativesSimulator/blob/v11/templates/notebooks/template_notebook_v1_1.ipynb\" target=\"_parent\"><img src=\"https://colab.research.google.com/assets/colab-badge.svg\" alt=\"Open In Colab\"/></a>"
      ]
    },
    {
      "cell_type": "markdown",
      "source": [
        "$\\Huge Version 1.1$"
      ],
      "metadata": {
        "id": "oN9rNLbn3O4L"
      }
    },
    {
      "cell_type": "markdown",
      "source": [
        "# Template for Developing Credit Trading Strategies\n",
        "\n",
        "What's new in version 1.1?\n",
        "\n",
        "- Added corrected Sharpe metric (see below how it is computed)\n",
        "\n",
        "- Added [Maximum Drawdown](https://www.investopedia.com/terms/m/maximum-drawdown-mdd.asp) and [Annualised Return](https://www.investopedia.com/terms/a/annualized-total-return.asp) (over the whole period and over the last 252 days)\n",
        "\n",
        "- Added new tickers (IHYG, HYG, LQD, IEAC, VIX)\n",
        "\n",
        "- Find [templates](https://github.com/vladargunov/CreditDerivativesSimulator/tree/v11/templates/strategies) for strategies written by our team\n",
        "\n",
        "- Now you can choose the project where you would like to submit your metrics, at this stage we have two of them: \"Test\" project used for experimenting with your strategies and \"Final\" for submitting your strategies for comparison and presentation. (Yet to implement)\n",
        "\n",
        "- Get training data without running a simulator to perform your EDA\n",
        "\n",
        "- Get testing iterator for debugging how your strategy performs in simulator\n",
        "\n"
      ],
      "metadata": {
        "id": "xH4Ql9vP2xP5"
      }
    },
    {
      "cell_type": "markdown",
      "source": [
        "\n",
        "\n",
        "---\n",
        "\n",
        "Let's start exploring the new features of the simulator!"
      ],
      "metadata": {
        "id": "r5wZ9hgaD1x1"
      }
    },
    {
      "cell_type": "markdown",
      "source": [
        "Please set a version of simulator that you require, it is very advisable to use the latest version \"v1.1\"."
      ],
      "metadata": {
        "id": "e0Pjz17nDjHY"
      }
    },
    {
      "cell_type": "code",
      "source": [
        "VERSION =  \"v1.1\" #@param {type:\"string\"}\n"
      ],
      "metadata": {
        "id": "PJEI6IUUAwAn"
      },
      "execution_count": 1,
      "outputs": []
    },
    {
      "cell_type": "code",
      "execution_count": null,
      "metadata": {
        "id": "YkzDBvij2kZS"
      },
      "outputs": [],
      "source": [
        "#@title [RUN] Install required python libraries and clone the repo\n",
        "# Assert for correct version\n",
        "\n",
        "assert VERSION in ['v1.0', 'v1.1'], 'Specify correct version!' + \\\n",
        "                                'Available versions are \"v1.0\" and \"v1.1\"'\n",
        "\n",
        "!pip install wandb -q\n",
        "!git clone -b $VERSION https://github.com/vladargunov/CreditDerivativesSimulator.git\n",
        "\n",
        "# Import necessary classses\n",
        "%cd CreditDerivativesSimulator\n",
        "from src.base_strategy import BaseStrategy\n",
        "from src.simulator import Simulator"
      ]
    },
    {
      "cell_type": "markdown",
      "source": [
        "# Migration from previous version\n",
        "\n",
        "All you need to do is to copy your strategy class from your previous notebook here! Or you can refer to the collection of our written [template strategies](https://github.com/vladargunov/CreditDerivativesSimulator/tree/v11/templates/strategies). If you do not know how to write your custom strategies, please refer to our previous template notebook."
      ],
      "metadata": {
        "id": "ZtNp5jkiDVr8"
      }
    },
    {
      "cell_type": "code",
      "source": [
        "class MyFirstStrategy(BaseStrategy):\n",
        "  def train_model(self, train_data):\n",
        "    pass\n",
        "\n",
        "  def trade(self, daily_data) -> dict:\n",
        "    return {'spx' : .1}"
      ],
      "metadata": {
        "id": "agOjDrM7DbgW"
      },
      "execution_count": 3,
      "outputs": []
    },
    {
      "cell_type": "markdown",
      "source": [
        "# Testing your strategy\n",
        "\n",
        "In addition to previous features, note that you also need to define the \"project_name\" argument in simulator, which can be either \"Test\" or \"Final\", depending on what project you want to submit your strategy. Remember, use \"Final\" if you only want to submit your final version of the strategy.\n",
        "\n",
        "You can also set \"train_test_split_time\" argument, which specifies the date from which you want your strategy to start trading. As a recommendation, for 'Test' runs you can set any desirable date, but for 'Final' projects let us agree about the unique date so it is easier to compare our strategies. For example, such date can be '2019-01-02'.\n",
        "\n",
        "Please also do not forget to give your strategies meaningful names, which are defined in argument \"run_name\"."
      ],
      "metadata": {
        "id": "j5GXsuDtGDLv"
      }
    },
    {
      "cell_type": "code",
      "source": [
        "# Create an instance of your strategy and of simulator\n",
        "my_strategy = MyFirstStrategy()\n",
        "\n",
        "\n",
        "# If you use wandb, you will need to past an API key from your wandb account\n",
        "sim = Simulator(use_wandb=True, \n",
        "                debug_mode=False, \n",
        "                train_test_split_time='2019-01-02', # submit date in format 'yyyy-mm-dd'\n",
        "                run_name='MyFirstStrategy1',\n",
        "                project_name='Final') # or 'Final'"
      ],
      "metadata": {
        "id": "WrC96jvOGFey"
      },
      "execution_count": null,
      "outputs": []
    },
    {
      "cell_type": "code",
      "source": [
        "# Available tickers in new version\n",
        "sim.get_availiable_assets()"
      ],
      "metadata": {
        "id": "rwYKw3a0zERk"
      },
      "execution_count": null,
      "outputs": []
    },
    {
      "cell_type": "code",
      "source": [
        "# Simulate your strategy\n",
        "sim.simulate(strategy=my_strategy)"
      ],
      "metadata": {
        "id": "qZ5w4VaWzjET"
      },
      "execution_count": null,
      "outputs": []
    },
    {
      "cell_type": "markdown",
      "source": [
        "# Debugging tools\n",
        "\n",
        "Now you can access the training and testing data without running a strategy. Firstly initialise a simulator, and then call these functions (without calling 'sim.simulate'):"
      ],
      "metadata": {
        "id": "k9PJhYX-yx0u"
      }
    },
    {
      "cell_type": "code",
      "source": [
        "# Initialise a simulator for getting train and test data\n",
        "debug_sim = Simulator(use_wandb=False,\n",
        "                      train_test_split_time='2019-01-02')"
      ],
      "metadata": {
        "id": "cYjV-WWu075u"
      },
      "execution_count": 11,
      "outputs": []
    },
    {
      "cell_type": "code",
      "source": [
        "# Get training data\n",
        "training_data = debug_sim.get_training_data()\n",
        "\n",
        "training_data.head()"
      ],
      "metadata": {
        "id": "Z514VvtTyzZS"
      },
      "execution_count": null,
      "outputs": []
    },
    {
      "cell_type": "code",
      "source": [
        "# Get test data at each trading day:\n",
        "\n",
        "# Initialise an iterator\n",
        "test_data = debug_sim.get_test_data()"
      ],
      "metadata": {
        "id": "N1fpnTK30yzm"
      },
      "execution_count": 18,
      "outputs": []
    },
    {
      "cell_type": "code",
      "source": [
        "# Get what trade() function receives at each step\n",
        "# Each time you call this cell, you will receive data for next\n",
        "# trade day, to reset test data call previous cell\n",
        "for trade_day in test_data:\n",
        "  print(trade_day)\n",
        "  break"
      ],
      "metadata": {
        "id": "5v9Fgp0T1eb7"
      },
      "execution_count": null,
      "outputs": []
    },
    {
      "cell_type": "markdown",
      "source": [
        "# Details about the computation of Sharpe, Maximum Drawdown, and Annualised return\n",
        "\n",
        "- Sharpe is calculated by the following formula:\n",
        "\n",
        "$$ Sharpe = \\frac{average \\; daily \\; return - risk \\; free \\;rate}{standard \\; deviation \\; daily \\; return} $$\n",
        "\n",
        "where risk free rate is computed as an average of 1 month treasury yields over the trading interval, which is then converted to an average daily rate by the formula\n",
        "\n",
        "$$ risk \\; free \\;rate \\; daily = (1 + risk \\; free \\;rate \\; annual)^{1 / 365} - 1 $$\n",
        "\n",
        "- Maximum Drawdown is computed by the formula:\n",
        "\n",
        "$$ Maximum \\; Drawdown = \\frac{lowest \\; value - highest \\; value}{highest \\; value} $$\n",
        "\n",
        "where the highest and lowest values are specified over the trailing period.\n",
        "\n",
        "- Annualised return is computed as:\n",
        "\n",
        "$$ Annualised \\; return = [(1 + daily \\; return_1) * (1 + daily \\; return_2) * ... * (1 + daily \\; return_n) ]^{1 / n} - 1 $$\n",
        "\n",
        "Where n is chosen according to the prespecified period.\n"
      ],
      "metadata": {
        "id": "IJXZjU8Y5DK-"
      }
    },
    {
      "cell_type": "code",
      "source": [],
      "metadata": {
        "id": "6FwXvwMx1ptX"
      },
      "execution_count": 20,
      "outputs": []
    }
  ]
}