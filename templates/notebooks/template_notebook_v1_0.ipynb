{
  "nbformat": 4,
  "nbformat_minor": 0,
  "metadata": {
    "colab": {
      "provenance": [],
      "collapsed_sections": [],
      "authorship_tag": "ABX9TyNZLZ/OpEe6zlKK4d3pJLcO",
      "include_colab_link": true
    },
    "kernelspec": {
      "name": "python3",
      "display_name": "Python 3"
    },
    "language_info": {
      "name": "python"
    }
  },
  "cells": [
    {
      "cell_type": "markdown",
      "metadata": {
        "id": "view-in-github",
        "colab_type": "text"
      },
      "source": [
        "<a href=\"https://colab.research.google.com/github/vladargunov/CreditDerivativesSimulator/blob/v11/templates/notebooks/template_notebook_v1_0.ipynb\" target=\"_parent\"><img src=\"https://colab.research.google.com/assets/colab-badge.svg\" alt=\"Open In Colab\"/></a>"
      ]
    },
    {
      "cell_type": "markdown",
      "source": [
        "# Template for Developing Credit Trading Strategies"
      ],
      "metadata": {
        "id": "AamIIaJX4GkP"
      }
    },
    {
      "cell_type": "markdown",
      "source": [
        "This notebook provides an environment and some examples how to backtest the trading strategies which will be developed during the CMF project 'Trading Credit Derivatives'.\n",
        "\n",
        "The GitHub repo can be found [here](https://github.com/vladargunov/CreditDerivativesSimulator).\n",
        "\n",
        "The main idea of the project is the implementation of the simulator class that takes care of daily backtesting of any customly developed strategy. This notebook is aimed for a release version 1.0.0 and the functionality might change in the future, while for now it is assumed that a trader receives data prior to '2013-01-02' and then trades until '2022-09-22' at daily frequency. Let us see how any user can develop his or her custom trading strategies."
      ],
      "metadata": {
        "id": "ebThAo5iWKDs"
      }
    },
    {
      "cell_type": "markdown",
      "source": [
        "\n",
        "---\n",
        "\n",
        "Firstly, please set a version of a simulator for such notebook, here it is advisable to use \"v1.0\"."
      ],
      "metadata": {
        "id": "Oab9U-BKCdZF"
      }
    },
    {
      "cell_type": "code",
      "source": [
        "VERSION =  \"v1.0\" #@param {type:\"string\"}"
      ],
      "metadata": {
        "id": "9R4uex0NCfTw"
      },
      "execution_count": null,
      "outputs": []
    },
    {
      "cell_type": "code",
      "execution_count": null,
      "metadata": {
        "id": "aKMTQw163Er8",
        "cellView": "form"
      },
      "outputs": [],
      "source": [
        "#@title [RUN] Install required python libraries and clone the repo\n",
        "!pip install wandb -q\n",
        "!git clone -b $VERSION https://github.com/vladargunov/CreditDerivativesSimulator.git\n",
        "\n",
        "# Import necessary classses\n",
        "%cd CreditDerivativesSimulator\n",
        "from src.base_strategy import BaseStrategy\n",
        "from src.simulator import Simulator"
      ]
    },
    {
      "cell_type": "markdown",
      "source": [
        "# Import your additional libraries"
      ],
      "metadata": {
        "id": "HQ3hnkcw06Xy"
      }
    },
    {
      "cell_type": "code",
      "source": [
        "# import sklearn\n",
        "# import statsmodels"
      ],
      "metadata": {
        "id": "GZ9adWpe_Rhq"
      },
      "execution_count": null,
      "outputs": []
    },
    {
      "cell_type": "markdown",
      "source": [
        "# How to create your custom strategy\n",
        "\n",
        "Any strategy must inherit from the BaseStrategy class, which is needed for correct execution of the simulator.\n",
        "\n",
        "Any strategy MUST implement two methods, train_model and trade:\n",
        "\n",
        "- train_model() method is used for training any of your models on the train set, which is defined to be any data before '2013-01-02'. See examples for possible use of it.\n",
        "\n",
        "- trade() method defines the strategy which will be performed during the testing stage. At each step the strategy receives a dictionary of prices, and must return a dictionary of weights, where each key represents a name of the stock and value represents share of the portfolio in it. Also see examples for possible use."
      ],
      "metadata": {
        "id": "PR7Y0Hy45Gx3"
      }
    },
    {
      "cell_type": "code",
      "source": [
        "\"\"\"\n",
        "The simplest strategy: invest each day 0.1% of your portfolio into spx\n",
        "and the rest into cash. No prior training is done\n",
        "\"\"\"\n",
        "\n",
        "class MyFirstStrategy(BaseStrategy):\n",
        "  def train_model(self, train_data):\n",
        "    pass\n",
        "\n",
        "  def trade(self, daily_data) -> dict:\n",
        "    return {'spx' : .1}"
      ],
      "metadata": {
        "id": "LJQ1XDhc_cNc"
      },
      "execution_count": null,
      "outputs": []
    },
    {
      "cell_type": "markdown",
      "source": [
        "# How to test you strategy"
      ],
      "metadata": {
        "id": "CBYDA1YS89BG"
      }
    },
    {
      "cell_type": "code",
      "source": [
        "# Create an instance of your strategy and of simulator\n",
        "my_strategy = MyFirstStrategy()\n",
        "\n",
        "# Define a name of your strategy to be represented in wandb\n",
        "# Also set flags if you wish to log the results into wandb\n",
        "# or you wand to debug the strategy, in that case only one testing day\n",
        "# will be executed\n",
        "\n",
        "# If you use wandb, you will need to past an API key from your\n",
        "# wandb account\n",
        "sim = Simulator(use_wandb=True, \n",
        "                debug_mode=False, \n",
        "                run_name='MyFirstStrategy1')\n",
        "\n",
        "sim.simulate(strategy=my_strategy)\n",
        "\n",
        "# Sharpe ratio is calculated as a mean of daily returns\n",
        "# of a portfolio minus the mean of returns of a portfolio \n",
        "# consisting of 100% spx long index, divided by the standard\n",
        "# deviation of them"
      ],
      "metadata": {
        "id": "mR77ayXpAL3r"
      },
      "execution_count": null,
      "outputs": []
    },
    {
      "cell_type": "code",
      "source": [
        "# You can also access the universe of available asset\n",
        "# by calling this funciton\n",
        "sim.get_availiable_assets()"
      ],
      "metadata": {
        "id": "i3KrYMs0-cK7"
      },
      "execution_count": null,
      "outputs": []
    },
    {
      "cell_type": "markdown",
      "source": [
        "# A more advanced strategy"
      ],
      "metadata": {
        "id": "l0k9_bnc99cC"
      }
    },
    {
      "cell_type": "code",
      "source": [
        "\"\"\"\n",
        "Cointegration strategy for assets between 'itraxx_main_generic' and 'spx'\n",
        "\"\"\"\n",
        "import numpy as np\n",
        "from sklearn.linear_model import LinearRegression\n",
        "\n",
        "class MySimpleCointegration(BaseStrategy):\n",
        "  def train_model(self, train_data):\n",
        "    # Dropna values\n",
        "    train_data = train_data.diff().dropna()\n",
        "    # Run simple regression of itraxx_main_generic\n",
        "    # and spx\n",
        "    x = train_data['itraxx_main_generic'].to_numpy().reshape(-1, 1)\n",
        "    y = train_data['spx'].to_numpy().reshape(-1, 1)\n",
        "\n",
        "    # Save regression as a class attribute to use in trade\n",
        "    self.reg = LinearRegression().fit(x,y)\n",
        "\n",
        "    # Extract linear relationship\n",
        "    # between these two assets\n",
        "    self.coeff = self.reg.coef_[0]\n",
        "\n",
        "    # We get spx = beta * itraxx_main_generic,\n",
        "    # so the risk-neutral portfolio should be\n",
        "    # {spx : 1 and itraxx_main_generic : - beta}\n",
        "    # or in other words the weight of \n",
        "    # itraxx_main_generic should be - beta times\n",
        "    # of weight sp\n",
        "\n",
        "\n",
        "  def trade(self, daily_data) -> dict:\n",
        "    # In this portfolio we randomize \n",
        "    # spx value at .1 or -.1 and \n",
        "    # itraxx_main_generic value at\n",
        "    # min(- spx_weight * beta, .9)\n",
        "    spx_weight = np.random.choice([.1, -.1])\n",
        "    return {'spx' : spx_weight, 'itraxx_main_generic' : min( -spx_weight * self.coeff, .9)} "
      ],
      "metadata": {
        "id": "-6D7n43A-uXw"
      },
      "execution_count": null,
      "outputs": []
    },
    {
      "cell_type": "code",
      "source": [
        "# Repeat the testing procedure of a strategy \n",
        "# outlined above\n",
        "\n",
        "my_strategy = MySimpleCointegration()\n",
        "\n",
        "sim = Simulator(use_wandb=True, \n",
        "                debug_mode=False, \n",
        "                run_name='MySimpleCointegration1')\n",
        "\n",
        "sim.simulate(strategy=my_strategy)"
      ],
      "metadata": {
        "id": "TSh0U54gGmBQ"
      },
      "execution_count": null,
      "outputs": []
    },
    {
      "cell_type": "markdown",
      "source": [
        "# Final Comments\n",
        "\n",
        "If you find an issue, or wish to ask for a new feature of the simulator, please open an issue, (see a nice [intro](https://www.youtube.com/watch?v=TKJ4RdhyB5Y) how to open them), and I will try to fix it as soon as I can.\n",
        "\n",
        "Also if you would like to contribute to this simulator as well, I would be more than delighted to work with you. I hope together we will be able to create a decent project that will help us in our professional and personal development :)"
      ],
      "metadata": {
        "id": "gOXdO-n1TC84"
      }
    }
  ]
}