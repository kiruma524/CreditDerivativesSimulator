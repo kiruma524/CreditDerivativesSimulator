{
  "nbformat": 4,
  "nbformat_minor": 0,
  "metadata": {
    "colab": {
      "provenance": [],
      "collapsed_sections": [],
      "authorship_tag": "ABX9TyPZI1pNC7zEQHN6lXJov9y8",
      "include_colab_link": true
    },
    "kernelspec": {
      "name": "python3",
      "display_name": "Python 3"
    },
    "language_info": {
      "name": "python"
    }
  },
  "cells": [
    {
      "cell_type": "markdown",
      "metadata": {
        "id": "view-in-github",
        "colab_type": "text"
      },
      "source": [
        "<a href=\"https://colab.research.google.com/github/vladargunov/CreditDerivativesSimulator/blob/master/templates/template_strategies_v1.ipynb\" target=\"_parent\"><img src=\"https://colab.research.google.com/assets/colab-badge.svg\" alt=\"Open In Colab\"/></a>"
      ]
    },
    {
      "cell_type": "markdown",
      "source": [
        "# Template for Developing Credit Trading Strategies"
      ],
      "metadata": {
        "id": "AamIIaJX4GkP"
      }
    },
    {
      "cell_type": "markdown",
      "source": [
        "This notebook provides an environment and some examples how to backtest the trading strategies which will be developed during the CMF project 'Trading Credit Derivatives'.\n",
        "\n",
        "The GitHub repo can be found [here](https://github.com/vladargunov/CreditDerivativesSimulator).\n",
        "\n",
        "The main idea of the project is the implementation of the simulator class that takes care of daily backtesting of any customly developed strategy. This notebook is aimed for a release version 1.0.0 and the functionality might change in the future, while for now it is assumed that a trader receives data prior to '2013-01-02' and then trades until '2022-09-22' at daily frequency. Let us see how any user can develop his or her custom trading strategies."
      ],
      "metadata": {
        "id": "ebThAo5iWKDs"
      }
    },
    {
      "cell_type": "code",
      "execution_count": 1,
      "metadata": {
        "id": "aKMTQw163Er8",
        "colab": {
          "base_uri": "https://localhost:8080/"
        },
        "cellView": "form",
        "outputId": "d00871f7-1120-415d-d1dd-b47d7058e258"
      },
      "outputs": [
        {
          "output_type": "stream",
          "name": "stdout",
          "text": [
            "\u001b[K     |████████████████████████████████| 1.9 MB 4.5 MB/s \n",
            "\u001b[K     |████████████████████████████████| 162 kB 57.7 MB/s \n",
            "\u001b[K     |████████████████████████████████| 182 kB 53.1 MB/s \n",
            "\u001b[K     |████████████████████████████████| 63 kB 1.2 MB/s \n",
            "\u001b[K     |████████████████████████████████| 162 kB 46.1 MB/s \n",
            "\u001b[K     |████████████████████████████████| 158 kB 23.9 MB/s \n",
            "\u001b[K     |████████████████████████████████| 157 kB 51.8 MB/s \n",
            "\u001b[K     |████████████████████████████████| 157 kB 43.0 MB/s \n",
            "\u001b[K     |████████████████████████████████| 157 kB 11.2 MB/s \n",
            "\u001b[K     |████████████████████████████████| 157 kB 48.4 MB/s \n",
            "\u001b[K     |████████████████████████████████| 157 kB 47.4 MB/s \n",
            "\u001b[K     |████████████████████████████████| 157 kB 16.7 MB/s \n",
            "\u001b[K     |████████████████████████████████| 157 kB 40.1 MB/s \n",
            "\u001b[K     |████████████████████████████████| 156 kB 44.9 MB/s \n",
            "\u001b[?25h  Building wheel for pathtools (setup.py) ... \u001b[?25l\u001b[?25hdone\n",
            "Cloning into 'CreditDerivativesSimulator'...\n",
            "remote: Enumerating objects: 38, done.\u001b[K\n",
            "remote: Counting objects: 100% (38/38), done.\u001b[K\n",
            "remote: Compressing objects: 100% (28/28), done.\u001b[K\n",
            "remote: Total 38 (delta 19), reused 24 (delta 9), pack-reused 0\u001b[K\n",
            "Unpacking objects: 100% (38/38), done.\n",
            "/content/CreditDerivativesSimulator\n"
          ]
        }
      ],
      "source": [
        "#@title [RUN] Install required python libraries and clone the repo\n",
        "!pip install wandb -q\n",
        "!git clone https://github.com/vladargunov/CreditDerivativesSimulator.git\n",
        "\n",
        "# Import necessary classses\n",
        "%cd CreditDerivativesSimulator\n",
        "from src.base_strategy import BaseStrategy\n",
        "from src.simulator import Simulator"
      ]
    },
    {
      "cell_type": "markdown",
      "source": [
        "# Import your additional libraries"
      ],
      "metadata": {
        "id": "HQ3hnkcw06Xy"
      }
    },
    {
      "cell_type": "code",
      "source": [
        "# import sklearn\n",
        "# import statsmodels"
      ],
      "metadata": {
        "id": "GZ9adWpe_Rhq"
      },
      "execution_count": 2,
      "outputs": []
    },
    {
      "cell_type": "markdown",
      "source": [
        "# How to create your custom strategy\n",
        "\n",
        "Any strategy must inherit from the BaseStrategy class, which is needed for correct execution of the simulator.\n",
        "\n",
        "Any strategy MUST implement two methods, train_model and trade:\n",
        "\n",
        "- train_model() method is used for training any of your models on the train set, which is defined to be any data before '2013-01-02'. See examples for possible use of it.\n",
        "\n",
        "- trade() method defines the strategy which will be performed during the testing stage. At each step the strategy receives a dictionary of prices, and must return a dictionary of weights, where each key represents a name of the stock and value represents share of the portfolio in it. Also see examples for possible use."
      ],
      "metadata": {
        "id": "PR7Y0Hy45Gx3"
      }
    },
    {
      "cell_type": "code",
      "source": [
        "\"\"\"\n",
        "The simplest strategy: invest each day 0.1% of your portfolio into spx\n",
        "and the rest into cash. No prior training is done\n",
        "\"\"\"\n",
        "\n",
        "class MyFirstStrategy(BaseStrategy):\n",
        "  def train_model(self, train_data):\n",
        "    pass\n",
        "\n",
        "  def trade(self, daily_data) -> dict:\n",
        "    return {'spx' : .1}"
      ],
      "metadata": {
        "id": "LJQ1XDhc_cNc"
      },
      "execution_count": 3,
      "outputs": []
    },
    {
      "cell_type": "markdown",
      "source": [
        "# How to test you strategy"
      ],
      "metadata": {
        "id": "CBYDA1YS89BG"
      }
    },
    {
      "cell_type": "code",
      "source": [
        "# Create an instance of your strategy and of simulator\n",
        "my_strategy = MyFirstStrategy()\n",
        "\n",
        "# Define a name of your strategy to be represented in wandb\n",
        "# Also set flags if you wish to log the results into wandb\n",
        "# or you wand to debug the strategy, in that case only one testing day\n",
        "# will be executed\n",
        "\n",
        "# If you use wandb, you will need to past an API key from your\n",
        "# wandb account\n",
        "sim = Simulator(use_wandb=True, \n",
        "                debug_mode=False, \n",
        "                run_name='MyFirstStrategy1')\n",
        "\n",
        "sim.simulate(strategy=my_strategy)\n",
        "\n",
        "# Sharpe ratio is calculated as a mean of daily returns\n",
        "# of a portfolio minus the mean of returns of a portfolio \n",
        "# consisting of 100% spx long index, divided by the standard\n",
        "# deviation of them"
      ],
      "metadata": {
        "colab": {
          "base_uri": "https://localhost:8080/",
          "height": 508
        },
        "id": "mR77ayXpAL3r",
        "outputId": "b8ab00ac-43e1-4078-aded-7949996d4195"
      },
      "execution_count": 4,
      "outputs": [
        {
          "output_type": "stream",
          "name": "stdout",
          "text": [
            "...Start Data Download...\n",
            "...Data Download Completed...\n"
          ]
        },
        {
          "output_type": "stream",
          "name": "stderr",
          "text": [
            "ERROR:wandb.jupyter:Failed to detect the name of this notebook, you can set it manually with the WANDB_NOTEBOOK_NAME environment variable to enable code saving.\n"
          ]
        },
        {
          "output_type": "display_data",
          "data": {
            "text/plain": [
              "<IPython.core.display.Javascript object>"
            ],
            "application/javascript": [
              "\n",
              "        window._wandbApiKey = new Promise((resolve, reject) => {\n",
              "            function loadScript(url) {\n",
              "            return new Promise(function(resolve, reject) {\n",
              "                let newScript = document.createElement(\"script\");\n",
              "                newScript.onerror = reject;\n",
              "                newScript.onload = resolve;\n",
              "                document.body.appendChild(newScript);\n",
              "                newScript.src = url;\n",
              "            });\n",
              "            }\n",
              "            loadScript(\"https://cdn.jsdelivr.net/npm/postmate/build/postmate.min.js\").then(() => {\n",
              "            const iframe = document.createElement('iframe')\n",
              "            iframe.style.cssText = \"width:0;height:0;border:none\"\n",
              "            document.body.appendChild(iframe)\n",
              "            const handshake = new Postmate({\n",
              "                container: iframe,\n",
              "                url: 'https://wandb.ai/authorize'\n",
              "            });\n",
              "            const timeout = setTimeout(() => reject(\"Couldn't auto authenticate\"), 5000)\n",
              "            handshake.then(function(child) {\n",
              "                child.on('authorize', data => {\n",
              "                    clearTimeout(timeout)\n",
              "                    resolve(data)\n",
              "                });\n",
              "            });\n",
              "            })\n",
              "        });\n",
              "    "
            ]
          },
          "metadata": {}
        },
        {
          "output_type": "stream",
          "name": "stderr",
          "text": [
            "\u001b[34m\u001b[1mwandb\u001b[0m: Logging into wandb.ai. (Learn how to deploy a W&B server locally: https://wandb.me/wandb-server)\n",
            "\u001b[34m\u001b[1mwandb\u001b[0m: You can find your API key in your browser here: https://wandb.ai/authorize\n",
            "wandb: Paste an API key from your profile and hit enter, or press ctrl+c to quit: "
          ]
        },
        {
          "name": "stdout",
          "output_type": "stream",
          "text": [
            "··········\n"
          ]
        },
        {
          "output_type": "stream",
          "name": "stderr",
          "text": [
            "\u001b[34m\u001b[1mwandb\u001b[0m: Appending key for api.wandb.ai to your netrc file: /root/.netrc\n"
          ]
        },
        {
          "output_type": "display_data",
          "data": {
            "text/plain": [
              "<IPython.core.display.HTML object>"
            ],
            "text/html": [
              "Tracking run with wandb version 0.13.4"
            ]
          },
          "metadata": {}
        },
        {
          "output_type": "display_data",
          "data": {
            "text/plain": [
              "<IPython.core.display.HTML object>"
            ],
            "text/html": [
              "Run data is saved locally in <code>/content/CreditDerivativesSimulator/wandb/run-20221016_005336-11spggwp</code>"
            ]
          },
          "metadata": {}
        },
        {
          "output_type": "display_data",
          "data": {
            "text/plain": [
              "<IPython.core.display.HTML object>"
            ],
            "text/html": [
              "Syncing run <strong><a href=\"https://wandb.ai/cmf-credit-derivatives/CMF-Credit-Derivatives/runs/11spggwp\" target=\"_blank\">MyFirstStrategy1</a></strong> to <a href=\"https://wandb.ai/cmf-credit-derivatives/CMF-Credit-Derivatives\" target=\"_blank\">Weights & Biases</a> (<a href=\"https://wandb.me/run\" target=\"_blank\">docs</a>)<br/>"
            ]
          },
          "metadata": {}
        },
        {
          "output_type": "stream",
          "name": "stderr",
          "text": [
            "100%|██████████| 2454/2454 [00:02<00:00, 1002.07it/s]\n"
          ]
        },
        {
          "output_type": "stream",
          "name": "stdout",
          "text": [
            "\n",
            "Final value of portfolio 1.1141465262879626\n",
            "Sharpe of the porfolio -0.36933991419221945\n"
          ]
        },
        {
          "output_type": "display_data",
          "data": {
            "text/plain": [
              "<IPython.core.display.HTML object>"
            ],
            "text/html": [
              "Waiting for W&B process to finish... <strong style=\"color:green\">(success).</strong>"
            ]
          },
          "metadata": {}
        },
        {
          "output_type": "display_data",
          "data": {
            "text/plain": [
              "<IPython.core.display.HTML object>"
            ],
            "text/html": [
              "<style>\n",
              "    table.wandb td:nth-child(1) { padding: 0 10px; text-align: left ; width: auto;} td:nth-child(2) {text-align: left ; width: 100%}\n",
              "    .wandb-row { display: flex; flex-direction: row; flex-wrap: wrap; justify-content: flex-start; width: 100% }\n",
              "    .wandb-col { display: flex; flex-direction: column; flex-basis: 100%; flex: 1; padding: 10px; }\n",
              "    </style>\n",
              "<div class=\"wandb-row\"><div class=\"wandb-col\"><h3>Run history:</h3><br/><table class=\"wandb\"><tr><td>daily_return</td><td>▆██▄▇██▂▅▆▇▇▄▅▇▇▇▇█▇▇▅▆█▁▆▆▇▇▅▁▅▆▇▆▇▇▇▇▁</td></tr><tr><td>portfolio_value</td><td>▁▁▁▂▂▂▂▂▃▃▃▃▂▃▃▃▃▄▄▄▄▄▄▅▄▅▅▅▅▆▅▆▆▇▇███▇▇</td></tr><tr><td>sharpe</td><td>▁</td></tr></table><br/></div><div class=\"wandb-col\"><h3>Run summary:</h3><br/><table class=\"wandb\"><tr><td>daily_return</td><td>-0.0003</td></tr><tr><td>portfolio_value</td><td>1.11415</td></tr><tr><td>sharpe</td><td>-0.36934</td></tr></table><br/></div></div>"
            ]
          },
          "metadata": {}
        },
        {
          "output_type": "display_data",
          "data": {
            "text/plain": [
              "<IPython.core.display.HTML object>"
            ],
            "text/html": [
              "Synced <strong style=\"color:#cdcd00\">MyFirstStrategy1</strong>: <a href=\"https://wandb.ai/cmf-credit-derivatives/CMF-Credit-Derivatives/runs/11spggwp\" target=\"_blank\">https://wandb.ai/cmf-credit-derivatives/CMF-Credit-Derivatives/runs/11spggwp</a><br/>Synced 5 W&B file(s), 0 media file(s), 0 artifact file(s) and 0 other file(s)"
            ]
          },
          "metadata": {}
        },
        {
          "output_type": "display_data",
          "data": {
            "text/plain": [
              "<IPython.core.display.HTML object>"
            ],
            "text/html": [
              "Find logs at: <code>./wandb/run-20221016_005336-11spggwp/logs</code>"
            ]
          },
          "metadata": {}
        }
      ]
    },
    {
      "cell_type": "code",
      "source": [
        "# You can also access the universe of available asset\n",
        "# by calling this funciton\n",
        "sim.get_availiable_assets()"
      ],
      "metadata": {
        "colab": {
          "base_uri": "https://localhost:8080/"
        },
        "id": "i3KrYMs0-cK7",
        "outputId": "e335b203-9419-4bd0-c85d-840773bfea55"
      },
      "execution_count": 5,
      "outputs": [
        {
          "output_type": "execute_result",
          "data": {
            "text/plain": [
              "['er_itraxx_xover_long',\n",
              " 'spx',\n",
              " 'er_itraxx_main_long',\n",
              " 'er_cdx_ig_short',\n",
              " 'itraxx_xover_generic',\n",
              " 'er_cdx_ig_long',\n",
              " 'cdx_ig_generic',\n",
              " 'er_itraxx_xover_short',\n",
              " 'itraxx_main_generic',\n",
              " 'er_itraxx_main_short',\n",
              " 'sx5e']"
            ]
          },
          "metadata": {},
          "execution_count": 5
        }
      ]
    },
    {
      "cell_type": "markdown",
      "source": [
        "# A more advanced strategy"
      ],
      "metadata": {
        "id": "l0k9_bnc99cC"
      }
    },
    {
      "cell_type": "code",
      "source": [
        "\"\"\"\n",
        "Cointegration strategy for assets between 'itraxx_main_generic' and 'spx'\n",
        "\"\"\"\n",
        "import numpy as np\n",
        "from sklearn.linear_model import LinearRegression\n",
        "\n",
        "class MySimpleCointegration(BaseStrategy):\n",
        "  def train_model(self, train_data):\n",
        "    # Dropna values\n",
        "    train_data = train_data.diff().dropna()\n",
        "    # Run simple regression of itraxx_main_generic\n",
        "    # and spx\n",
        "    x = train_data['itraxx_main_generic'].to_numpy().reshape(-1, 1)\n",
        "    y = train_data['spx'].to_numpy().reshape(-1, 1)\n",
        "\n",
        "    # Save regression as a class attribute to use in trade\n",
        "    self.reg = LinearRegression().fit(x,y)\n",
        "\n",
        "    # Extract linear relationship\n",
        "    # between these two assets\n",
        "    self.coeff = self.reg.coef_[0]\n",
        "\n",
        "    # We get spx = beta * itraxx_main_generic,\n",
        "    # so the risk-neutral portfolio should be\n",
        "    # {spx : 1 and itraxx_main_generic : - beta}\n",
        "    # or in other words the weight of \n",
        "    # itraxx_main_generic should be - beta times\n",
        "    # of weight sp\n",
        "\n",
        "\n",
        "  def trade(self, daily_data) -> dict:\n",
        "    # In this portfolio we randomize \n",
        "    # spx value at .1 or -.1 and \n",
        "    # itraxx_main_generic value at\n",
        "    # min(- spx_weight * beta, .9)\n",
        "    spx_weight = np.random.choice([.1, -.1])\n",
        "    return {'spx' : spx_weight, 'itraxx_main_generic' : min( -spx_weight * self.coeff, .9)} "
      ],
      "metadata": {
        "id": "-6D7n43A-uXw"
      },
      "execution_count": 7,
      "outputs": []
    },
    {
      "cell_type": "code",
      "source": [
        "# Repeat the testing procedure of a strategy \n",
        "# outlined above\n",
        "\n",
        "my_strategy = MySimpleCointegration()\n",
        "\n",
        "sim = Simulator(use_wandb=True, \n",
        "                debug_mode=False, \n",
        "                run_name='MySimpleCointegration1')\n",
        "\n",
        "sim.simulate(strategy=my_strategy)"
      ],
      "metadata": {
        "colab": {
          "base_uri": "https://localhost:8080/",
          "height": 393
        },
        "id": "TSh0U54gGmBQ",
        "outputId": "abaceb1f-c2c6-40af-f72c-9d8d864204ec"
      },
      "execution_count": 8,
      "outputs": [
        {
          "output_type": "stream",
          "name": "stderr",
          "text": [
            "\u001b[34m\u001b[1mwandb\u001b[0m: Currently logged in as: \u001b[33mvladargunov\u001b[0m (\u001b[33mcmf-credit-derivatives\u001b[0m). Use \u001b[1m`wandb login --relogin`\u001b[0m to force relogin\n"
          ]
        },
        {
          "output_type": "display_data",
          "data": {
            "text/plain": [
              "<IPython.core.display.HTML object>"
            ],
            "text/html": [
              "Tracking run with wandb version 0.13.4"
            ]
          },
          "metadata": {}
        },
        {
          "output_type": "display_data",
          "data": {
            "text/plain": [
              "<IPython.core.display.HTML object>"
            ],
            "text/html": [
              "Run data is saved locally in <code>/content/CreditDerivativesSimulator/wandb/run-20221016_005411-vnob1ww1</code>"
            ]
          },
          "metadata": {}
        },
        {
          "output_type": "display_data",
          "data": {
            "text/plain": [
              "<IPython.core.display.HTML object>"
            ],
            "text/html": [
              "Syncing run <strong><a href=\"https://wandb.ai/cmf-credit-derivatives/CMF-Credit-Derivatives/runs/vnob1ww1\" target=\"_blank\">MySimpleCointegration1</a></strong> to <a href=\"https://wandb.ai/cmf-credit-derivatives/CMF-Credit-Derivatives\" target=\"_blank\">Weights & Biases</a> (<a href=\"https://wandb.me/run\" target=\"_blank\">docs</a>)<br/>"
            ]
          },
          "metadata": {}
        },
        {
          "output_type": "stream",
          "name": "stderr",
          "text": [
            "100%|██████████| 2454/2454 [00:03<00:00, 682.88it/s]"
          ]
        },
        {
          "output_type": "stream",
          "name": "stdout",
          "text": [
            "\n",
            "Final value of portfolio [1.17530203]\n",
            "Sharpe of the porfolio -0.06835504737820929\n"
          ]
        },
        {
          "output_type": "stream",
          "name": "stderr",
          "text": [
            "\n"
          ]
        },
        {
          "output_type": "display_data",
          "data": {
            "text/plain": [
              "<IPython.core.display.HTML object>"
            ],
            "text/html": [
              "Waiting for W&B process to finish... <strong style=\"color:green\">(success).</strong>"
            ]
          },
          "metadata": {}
        },
        {
          "output_type": "display_data",
          "data": {
            "text/plain": [
              "<IPython.core.display.HTML object>"
            ],
            "text/html": [
              "<style>\n",
              "    table.wandb td:nth-child(1) { padding: 0 10px; text-align: left ; width: auto;} td:nth-child(2) {text-align: left ; width: 100%}\n",
              "    .wandb-row { display: flex; flex-direction: row; flex-wrap: wrap; justify-content: flex-start; width: 100% }\n",
              "    .wandb-col { display: flex; flex-direction: column; flex-basis: 100%; flex: 1; padding: 10px; }\n",
              "    </style>\n",
              "<div class=\"wandb-row\"><div class=\"wandb-col\"><h3>Run history:</h3><br/><table class=\"wandb\"><tr><td>daily_return</td><td>▅▆▇▆▅▆▇▆▅█▆▅▅▇▆▆▄▆▅▆▆▅▆▆▆▁▆▇▅▅▅▇▆▆▆▆▆▆▆▄</td></tr><tr><td>portfolio_value</td><td>▁▂▃▁▁▂▁▂▂▂▂▂▃▄▄▃▃▃▄▃▃▃▄▅▇▆▇█▆▅▆▄▄▃▁▁▂▂▄▅</td></tr><tr><td>sharpe</td><td>▁</td></tr></table><br/></div><div class=\"wandb-col\"><h3>Run summary:</h3><br/><table class=\"wandb\"><tr><td>daily_return</td><td>-0.00444</td></tr><tr><td>portfolio_value</td><td>1.1753</td></tr><tr><td>sharpe</td><td>-0.06836</td></tr></table><br/></div></div>"
            ]
          },
          "metadata": {}
        },
        {
          "output_type": "display_data",
          "data": {
            "text/plain": [
              "<IPython.core.display.HTML object>"
            ],
            "text/html": [
              "Synced <strong style=\"color:#cdcd00\">MySimpleCointegration1</strong>: <a href=\"https://wandb.ai/cmf-credit-derivatives/CMF-Credit-Derivatives/runs/vnob1ww1\" target=\"_blank\">https://wandb.ai/cmf-credit-derivatives/CMF-Credit-Derivatives/runs/vnob1ww1</a><br/>Synced 5 W&B file(s), 0 media file(s), 0 artifact file(s) and 0 other file(s)"
            ]
          },
          "metadata": {}
        },
        {
          "output_type": "display_data",
          "data": {
            "text/plain": [
              "<IPython.core.display.HTML object>"
            ],
            "text/html": [
              "Find logs at: <code>./wandb/run-20221016_005411-vnob1ww1/logs</code>"
            ]
          },
          "metadata": {}
        }
      ]
    },
    {
      "cell_type": "markdown",
      "source": [
        "# Final Comments\n",
        "\n",
        "If you find an issue, or wish to ask for a new feature of the simulator, please open an issue, (see a nice [intro](https://www.youtube.com/watch?v=TKJ4RdhyB5Y) how to open them), and I will try to fix it as soon as I can.\n",
        "\n",
        "Also if you would like to contribute to this simulator as well, I would be more than delighted to work with you. I hope together we will be able to create a decent project that will help us in our professional and personal development :)"
      ],
      "metadata": {
        "id": "gOXdO-n1TC84"
      }
    },
    {
      "cell_type": "code",
      "source": [],
      "metadata": {
        "id": "aj58OhupWGh7"
      },
      "execution_count": null,
      "outputs": []
    }
  ]
}